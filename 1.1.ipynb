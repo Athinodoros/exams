{
 "cells": [
  {
   "cell_type": "code",
   "execution_count": null,
   "metadata": {},
   "outputs": [],
   "source": [
    "import numpy\n",
    "import pandas as pd\n",
    "import folium\n",
    "import requests\n",
    "import bs4\n",
    "import sklearn\n",
    "import matplotlib\n",
    "import dateparser\n",
    "from bs4 import BeautifulSoup\n",
    "\n",
    "url = \"http://46.101.108.154/\"\n",
    "\n",
    "r = requests.get(url)\n",
    "\n",
    "soup = BeautifulSoup(r.content, \"html.parser\")\n",
    "\n",
    "items = soup.find_all(\"a\");\n",
    "linkTexts = [item for item in items]\n",
    "newFixedLinks = [];\n",
    "\n",
    "for text in linkTexts:\n",
    "    if (text.text.find(\"page\") > -1):\n",
    "        newFixedLinks.append(url+(text.text))\n",
    "\n",
    "\n",
    "\n",
    "\n",
    "def scrapeSingle(url):\n",
    "    r = requests.get(url)\n",
    "\n",
    "    soup = BeautifulSoup(r.content, \"html.parser\")\n",
    "\n",
    "    all = soup.find_all('h3')\n",
    "    trs = [p.parent for p in all]\n",
    "    what = []\n",
    "    when = []\n",
    "    howM = []\n",
    "    where = []\n",
    "    for row in trs:  # a if condition else b\n",
    "        what.append(row.find('h3').text.strip())\n",
    "        when.append(row.find_all('span')[0].text.split('(')[0].strip() if \"(\" in row.find_all('span')[0].text else\n",
    "                    row.find_all('span')[0].text.strip())\n",
    "        howM.append(\n",
    "            '(' + row.find_all('span')[0].text.split('(')[1].strip() if \"(\" in row.find_all('span')[0].text else \"\")\n",
    "        where.append(row.find_all('span')[1].text.strip())\n",
    "\n",
    "    data = pd.DataFrame({'What': what,\n",
    "                         \"When\": when,\n",
    "                         'How much': howM,\n",
    "                         'Where': where})\n",
    "    return data\n",
    "\n",
    "frames = [scrapeSingle(url) for url in newFixedLinks]\n",
    "result = pd.concat(frames)\n",
    "\n",
    "result.to_csv('data.csv')\n"
   ]
  }
 ],
 "metadata": {
  "kernelspec": {
   "display_name": "Python 3",
   "language": "python",
   "name": "python3"
  },
  "language_info": {
   "codemirror_mode": {
    "name": "ipython",
    "version": 3
   },
   "file_extension": ".py",
   "mimetype": "text/x-python",
   "name": "python",
   "nbconvert_exporter": "python",
   "pygments_lexer": "ipython3",
   "version": "3.5.2"
  }
 },
 "nbformat": 4,
 "nbformat_minor": 2
}
